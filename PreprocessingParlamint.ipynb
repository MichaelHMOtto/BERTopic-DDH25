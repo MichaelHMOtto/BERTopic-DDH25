{
 "cells": [
  {
   "cell_type": "markdown",
   "id": "56a67d29",
   "metadata": {},
   "source": [
    "Imports"
   ]
  },
  {
   "cell_type": "code",
   "execution_count": null,
   "id": "d3a68dd8-4802-4b5f-9809-659c10ed771f",
   "metadata": {},
   "outputs": [],
   "source": [
    "import pandas as pd\n",
    "import os, glob\n",
    "import math"
   ]
  },
  {
   "cell_type": "markdown",
   "id": "04e78667",
   "metadata": {},
   "source": [
    "Define which files should be read into which frame"
   ]
  },
  {
   "cell_type": "code",
   "execution_count": null,
   "id": "e031ee42-0187-43c9-8cfa-a56ff09cea70",
   "metadata": {},
   "outputs": [],
   "source": [
    "def define_names():\n",
    "\n",
    "    d_path = r\"ParlaMint-DK-en.ana\\ParlaMint-DK-en.txt\\2022\"\n",
    "\n",
    "    all_meta = glob.glob(os.path.join(d_path, \"*-meta.tsv\"))\n",
    "\n",
    "    f_names_ana_meta = [f for f in all_meta if f.endswith(\"-ana-meta.tsv\")]\n",
    "    f_names_meta = [f for f in all_meta if f not in f_names_ana_meta]\n",
    "\n",
    "    f_names_txt = glob.glob(os.path.join(d_path, \"*.txt\"))\n",
    "    return f_names_ana_meta, f_names_meta, f_names_txt"
   ]
  },
  {
   "cell_type": "markdown",
   "id": "382b8451",
   "metadata": {},
   "source": [
    "Read data into the frames from the defined files"
   ]
  },
  {
   "cell_type": "code",
   "execution_count": null,
   "id": "d0bbdb04",
   "metadata": {},
   "outputs": [],
   "source": [
    "def create_df(f_names):\n",
    "    m_frames = []\n",
    "\n",
    "    for f_name in f_names:\n",
    "        df = pd.read_csv(f_name, sep='\\t')\n",
    "        m_frames.append(df)\n",
    "\n",
    "    df = pd.concat(m_frames)\n",
    "    return df"
   ]
  },
  {
   "cell_type": "code",
   "execution_count": null,
   "id": "7f176adb-e7f7-4363-bc4b-b720aa9ce81d",
   "metadata": {},
   "outputs": [],
   "source": [
    "def load_id_text_from_files(f_names_txt):\n",
    "\n",
    "    lst = []\n",
    "    for f_name in f_names_txt:\n",
    "        with open(f_name, \"r\", encoding=\"utf-8\") as f:\n",
    "            for line in f:\n",
    "                line = line.strip()\n",
    "                if \"\\t\" in line:\n",
    "                    l_id, l_txt = line.split(\"\\t\", 1)  # split only once\n",
    "                    lst.append({\"ID\": l_id, \"Text\": l_txt})\n",
    "    return pd.DataFrame(lst)\n",
    "\n",
    "\n"
   ]
  },
  {
   "cell_type": "markdown",
   "id": "68460a8e",
   "metadata": {},
   "source": [
    "Merge 2 different Dataframes"
   ]
  },
  {
   "cell_type": "code",
   "execution_count": null,
   "id": "3dc52fda",
   "metadata": {},
   "outputs": [],
   "source": [
    "def merge_meta_dfs(df_ana_meta, df_meta):\n",
    "    merged_df = pd.merge(\n",
    "        df_ana_meta,\n",
    "        df_meta,\n",
    "        left_on=\"Parent_ID\",\n",
    "        right_on=\"ID\",\n",
    "        how=\"left\",\n",
    "        suffixes=('_ana', '_full')\n",
    "    )\n",
    "    merged_df.drop(columns=[\"ID_full\"], inplace=True)\n",
    "    merged_df.rename(columns={\"ID_ana\": \"ID\"}, inplace=True)\n",
    "    return merged_df"
   ]
  },
  {
   "cell_type": "markdown",
   "id": "e13612b7",
   "metadata": {},
   "source": [
    "Clean up Dataframe as needed"
   ]
  },
  {
   "cell_type": "code",
   "execution_count": null,
   "id": "6d581c6f",
   "metadata": {},
   "outputs": [],
   "source": [
    "def clear_columns(merged_df):\n",
    "\n",
    "    columns_to_keep = [\n",
    "        \"ID\",             \n",
    "        #\"Text\",            \n",
    "        \"Speaker_ID\",      \n",
    "        \"Speaker_birth\",\n",
    "        \"Language\",\n",
    "        \"Party_orientation\",\n",
    "        \"Topic\",         \n",
    "        \"Senti_6\",\n",
    "        \"Text\",\n",
    "    ]\n",
    "    reduced_df = merged_df[columns_to_keep].copy()\n",
    "    return reduced_df"
   ]
  },
  {
   "cell_type": "markdown",
   "id": "ee3063c3",
   "metadata": {},
   "source": [
    "Display Dataframes"
   ]
  },
  {
   "cell_type": "code",
   "execution_count": null,
   "id": "477ab79e",
   "metadata": {},
   "outputs": [],
   "source": [
    "def display_final_df(reduced_df):\n",
    "    print(reduced_df.shape)\n",
    "    display(reduced_df.head())"
   ]
  },
  {
   "cell_type": "markdown",
   "id": "78dc9ff5",
   "metadata": {},
   "source": [
    "Pipeline"
   ]
  },
  {
   "cell_type": "code",
   "execution_count": null,
   "id": "1b442f0f",
   "metadata": {},
   "outputs": [],
   "source": [
    "f_names_ana_meta, f_names_meta, f_names_txt = define_names()\n",
    "df_meta = create_df(f_names_meta)\n",
    "df_ana_meta = create_df(f_names_ana_meta)\n",
    "df_txt = load_id_text_from_files(f_names_txt)\n",
    "df_text_meta = pd.merge(df_txt, df_meta, on=\"ID\")\n",
    "merged_df =  merge_meta_dfs(df_ana_meta, df_text_meta)\n",
    "reduced_df = clear_columns(merged_df)\n",
    "\n"
   ]
  },
  {
   "cell_type": "code",
   "execution_count": null,
   "id": "43012151",
   "metadata": {},
   "outputs": [],
   "source": [
    "display_final_df(reduced_df)"
   ]
  },
  {
   "cell_type": "markdown",
   "id": "0803b63b",
   "metadata": {},
   "source": [
    "Everything after this point can be revoked once there is a csv with sentences"
   ]
  },
  {
   "cell_type": "code",
   "execution_count": null,
   "id": "ad4d6c10",
   "metadata": {},
   "outputs": [],
   "source": [
    "def reduce_by_base_id_mode_sentiment(df, id_col=\"ID\", senti_col=\"Senti_6\"):\n",
    "    # base ID without any \".seg...\" suffix\n",
    "    d = df.assign(_base_id=df[id_col].str.split(\".\").str[0])\n",
    "\n",
    "    # aggregate: most common sentiment, first for other cols\n",
    "    agg = {c: \"first\" for c in d.columns if c not in [id_col, \"_base_id\", senti_col]}\n",
    "    agg[senti_col] = lambda s: s.mode().iloc[0] if not s.mode().empty else s.iloc[0]\n",
    "\n",
    "    out = (\n",
    "        d.groupby(\"_base_id\", as_index=False)\n",
    "         .agg(agg)\n",
    "         .rename(columns={\"_base_id\": id_col})\n",
    "    )\n",
    "    return out\n",
    "\n",
    "# usage\n",
    "lessened_df = reduce_by_base_id_mode_sentiment(reduced_df)\n",
    "lessened_df.head()"
   ]
  },
  {
   "cell_type": "code",
   "execution_count": null,
   "id": "c8176dbe",
   "metadata": {},
   "outputs": [],
   "source": [
    "def split_text_into_segments(df, id_col=\"ID\", text_col=\"Text\", words_per_seg=255):\n",
    "    rows = []\n",
    "    other_cols = [c for c in df.columns if c not in (id_col, text_col)]\n",
    "\n",
    "    for _, r in df.iterrows():\n",
    "        text = (r[text_col] or \"\")\n",
    "        words = str(text).split()\n",
    "        if not words:\n",
    "            continue\n",
    "\n",
    "        n = math.ceil(len(words) / words_per_seg)\n",
    "        for i in range(n):\n",
    "            seg_words = words[i*words_per_seg:(i+1)*words_per_seg]\n",
    "            seg_text = \" \".join(seg_words)\n",
    "            seg_id = f\"{r[id_col]}-{i+1}\"\n",
    "            new_row = {id_col: seg_id, text_col: seg_text}\n",
    "            for c in other_cols:\n",
    "                new_row[c] = r[c]\n",
    "            rows.append(new_row)\n",
    "\n",
    "    # keep original column order (ID, others..., Text at end if that's how yours is)\n",
    "    col_order = [id_col] + [c for c in df.columns if c not in (id_col, text_col)] + [text_col]\n",
    "    return pd.DataFrame(rows, columns=col_order)"
   ]
  },
  {
   "cell_type": "code",
   "execution_count": null,
   "id": "073ef20d",
   "metadata": {},
   "outputs": [],
   "source": [
    "final_provis_parl_df = split_text_into_segments(lessened_df)\n",
    "final_provis_parl_df.head()"
   ]
  },
  {
   "cell_type": "code",
   "execution_count": null,
   "id": "b71e39f7",
   "metadata": {},
   "outputs": [],
   "source": [
    "final_provis_parl_df.to_csv(\"final_provis_parl.csv\")"
   ]
  }
 ],
 "metadata": {
  "kernelspec": {
   "display_name": "ddh25",
   "language": "python",
   "name": "python3"
  },
  "language_info": {
   "codemirror_mode": {
    "name": "ipython",
    "version": 3
   },
   "file_extension": ".py",
   "mimetype": "text/x-python",
   "name": "python",
   "nbconvert_exporter": "python",
   "pygments_lexer": "ipython3",
   "version": "3.13.5"
  }
 },
 "nbformat": 4,
 "nbformat_minor": 5
}
