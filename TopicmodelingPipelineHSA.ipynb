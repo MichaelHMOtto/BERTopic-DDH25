{
 "cells": [
  {
   "cell_type": "markdown",
   "metadata": {
    "id": "25JCE7oWq7qW"
   },
   "source": [
    "**GENERAL INFORMATION**\n",
    "\n",
    "Further Reading:\n",
    "\n",
    "https://www.zotero.org/michael.otto/collections/4MM7QXCZ\n",
    "\n",
    "https://maartengr.github.io/BERTopic/index.html\n",
    "\n"
   ]
  },
  {
   "cell_type": "markdown",
   "metadata": {
    "id": "rVWRVZjAJ2M8"
   },
   "source": [
    "**DEPENDENCIES**"
   ]
  },
  {
   "cell_type": "code",
   "execution_count": null,
   "metadata": {
    "executionInfo": {
     "elapsed": 9514,
     "status": "ok",
     "timestamp": 1755156710514,
     "user": {
      "displayName": "m. otto",
      "userId": "07165694256129537082"
     },
     "user_tz": -120
    },
    "id": "kwfcP7j_JgYe"
   },
   "outputs": [],
   "source": [
    "%%capture\n",
    "!pip install bertopic datasets openai datamapplot"
   ]
  },
  {
   "cell_type": "code",
   "execution_count": null,
   "metadata": {
    "colab": {
     "base_uri": "https://localhost:8080/"
    },
    "executionInfo": {
     "elapsed": 20215,
     "status": "ok",
     "timestamp": 1755156730727,
     "user": {
      "displayName": "m. otto",
      "userId": "07165694256129537082"
     },
     "user_tz": -120
    },
    "id": "GE0UzbMwJhtb",
    "outputId": "c261f3a6-5754-437b-a79d-dcf8775f1ce8"
   },
   "outputs": [],
   "source": [
    "!pip install --upgrade datasets fsspec aiohttp"
   ]
  },
  {
   "cell_type": "code",
   "execution_count": null,
   "metadata": {
    "colab": {
     "base_uri": "https://localhost:8080/"
    },
    "executionInfo": {
     "elapsed": 18824,
     "status": "ok",
     "timestamp": 1755156749552,
     "user": {
      "displayName": "m. otto",
      "userId": "07165694256129537082"
     },
     "user_tz": -120
    },
    "id": "0OjsiIRSHis8",
    "outputId": "2e8936c4-12bb-473e-e8f4-843f7d588da3"
   },
   "outputs": [],
   "source": [
    "!pip install stopwordsiso"
   ]
  },
  {
   "cell_type": "markdown",
   "metadata": {
    "id": "Qc-6TVBrKwZh"
   },
   "source": [
    "**IMPORTS**"
   ]
  },
  {
   "cell_type": "code",
   "execution_count": null,
   "metadata": {
    "colab": {
     "base_uri": "https://localhost:8080/"
    },
    "executionInfo": {
     "elapsed": 89438,
     "status": "ok",
     "timestamp": 1755156839001,
     "user": {
      "displayName": "m. otto",
      "userId": "07165694256129537082"
     },
     "user_tz": -120
    },
    "id": "a_ohyNZQKvH5",
    "outputId": "d60a58d1-10c7-4cef-bfa7-61287e24f5a2"
   },
   "outputs": [],
   "source": [
    "import pandas as pd\n",
    "import numpy as np\n",
    "import re\n",
    "import matplotlib.pyplot as plt\n",
    "from google.colab import drive\n",
    "from IPython.display import display\n",
    "from umap import UMAP\n",
    "from tqdm import tqdm\n",
    "from sentence_transformers import SentenceTransformer\n",
    "from hdbscan import HDBSCAN\n",
    "from sklearn.cluster import KMeans\n",
    "from sklearn.decomposition import PCA\n",
    "from sklearn.feature_extraction.text import CountVectorizer\n",
    "from copy import deepcopy\n",
    "from bertopic import BERTopic\n",
    "from bertopic.representation import KeyBERTInspired\n",
    "from bertopic.representation import MaximalMarginalRelevance\n",
    "import stopwordsiso as stopwords\n",
    "from collections import defaultdict\n",
    "import openai\n",
    "from openai import OpenAI\n",
    "from bertopic.representation import OpenAI as OpenAIRep\n",
    "import matplotlib.pyplot as plt\n",
    "\n",
    "\n",
    "drive.mount('/content/drive') # only for google colab"
   ]
  },
  {
   "cell_type": "markdown",
   "metadata": {
    "id": "fPHgdQNSKAhJ"
   },
   "source": [
    "**DATA ACQUISISTION**"
   ]
  },
  {
   "cell_type": "code",
   "execution_count": null,
   "metadata": {
    "executionInfo": {
     "elapsed": 4,
     "status": "ok",
     "timestamp": 1755156839012,
     "user": {
      "displayName": "m. otto",
      "userId": "07165694256129537082"
     },
     "user_tz": -120
    },
    "id": "hCgonUGXKCnL"
   },
   "outputs": [],
   "source": [
    "def load_and_validate_csv(file_path):\n",
    "    try:\n",
    "        df = pd.read_csv(file_path)\n",
    "        print(\"Dataset loaded. Here are the first rows:\")\n",
    "        display(df.head())\n",
    "    except FileNotFoundError:\n",
    "        raise FileNotFoundError(f\"No file found at {file_path!r}. Check that the path is correct.\")\n",
    "    except Exception as e:\n",
    "        raise RuntimeError(f\"Error reading {file_path!r}: {e}\")\n",
    "\n",
    "    required_cols = ['pid', 'text']\n",
    "    missing = [col for col in required_cols if col not in df.columns]\n",
    "    if missing:\n",
    "        raise KeyError(f\"Missing columns in CSV: {missing}\")\n",
    "    df_par = df.copy()\n",
    "\n",
    "    return df, df_par"
   ]
  },
  {
   "cell_type": "code",
   "execution_count": null,
   "metadata": {
    "executionInfo": {
     "elapsed": 5,
     "status": "ok",
     "timestamp": 1755156839021,
     "user": {
      "displayName": "m. otto",
      "userId": "07165694256129537082"
     },
     "user_tz": -120
    },
    "id": "CmFnXC9wK7sk"
   },
   "outputs": [],
   "source": [
    "def prepare_text_data(df_par):\n",
    "    df_par = df_par.dropna(subset=['text'])\n",
    "    df_par['text'] = df_par['text'].astype(str)\n",
    "\n",
    "    pids = df_par['pid'].tolist()\n",
    "    texts = df_par['text'].tolist()\n",
    "    langs = df_par['language'].dropna().unique().tolist()\n",
    "\n",
    "    print(f\" First 5 pids: {pids[:5]}\")\n",
    "    print(f\"First 5 texts: {texts[:5]}\")\n",
    "    print(f\"First 5 launguages: {langs[:5]}\")\n",
    "\n",
    "    return pids, texts, langs"
   ]
  },
  {
   "cell_type": "markdown",
   "metadata": {
    "id": "KJG0rfX0LQWO"
   },
   "source": [
    "**EMBEDDING**\n",
    "\n",
    "Start of by transforming the input texts into numerical represantation. Turns the documents into an n-dimensionary array.\n",
    "\n",
    "Further Reading:\n",
    "\n",
    "https://maartengr.github.io/BERTopic/getting_started/embeddings/embeddings.html"
   ]
  },
  {
   "cell_type": "code",
   "execution_count": null,
   "metadata": {
    "executionInfo": {
     "elapsed": 5,
     "status": "ok",
     "timestamp": 1755156839030,
     "user": {
      "displayName": "m. otto",
      "userId": "07165694256129537082"
     },
     "user_tz": -120
    },
    "id": "pzHarBZcLVt4"
   },
   "outputs": [],
   "source": [
    "def embed_docs(texts):\n",
    "    model = SentenceTransformer('paraphrase-multilingual-MiniLM-L12-v2')##thenlper/gte-small\n",
    "    # Clean input of floats\n",
    "    texts = [str(t) for t in texts if isinstance(t, str) and t.strip() != \"\"]\n",
    "\n",
    "    embeddings = model.encode(texts, show_progress_bar=True)\n",
    "    print(\"Embedding complete. Shape:\", embeddings.shape)\n",
    "    return model, embeddings"
   ]
  },
  {
   "cell_type": "markdown",
   "metadata": {
    "id": "1Fu8BS65LrtM"
   },
   "source": [
    "**DIMENSIONALITY REDUCTION**\n",
    "\n",
    "Now the embeddings have high dimensionality, which might hinder clustering later on the embeddings are reduced to a workable dimensional space, such as 5 dimensions.\n",
    "\n",
    "Further Reading:\n",
    "\n",
    "https://www.zotero.org/michael.otto/collections/WEQ9TCUX\n",
    "\n",
    "https://maartengr.github.io/BERTopic/getting_started/dim_reduction/dim_reduction.html\n"
   ]
  },
  {
   "cell_type": "markdown",
   "metadata": {
    "id": "Ao1w8brSTtvx"
   },
   "source": [
    "*UMAP*"
   ]
  },
  {
   "cell_type": "code",
   "execution_count": null,
   "metadata": {
    "executionInfo": {
     "elapsed": 3,
     "status": "ok",
     "timestamp": 1755156839037,
     "user": {
      "displayName": "m. otto",
      "userId": "07165694256129537082"
     },
     "user_tz": -120
    },
    "id": "a-1C8rb_LVds"
   },
   "outputs": [],
   "source": [
    "def reduce_dimensions(embeddings):\n",
    "\n",
    "    umap_model = UMAP(\n",
    "      n_components=5, #number of dimensions\n",
    "      n_neighbors=10,\n",
    "      metric='cosine',\n",
    "      random_state=42\n",
    "    )\n",
    "    reduced_embeddings = umap_model.fit_transform(embeddings)\n",
    "\n",
    "    return reduced_embeddings, umap_model\n"
   ]
  },
  {
   "cell_type": "markdown",
   "metadata": {
    "id": "sIDq5SmlTyMq"
   },
   "source": [
    "*PCA (Alternative)*"
   ]
  },
  {
   "cell_type": "code",
   "execution_count": null,
   "metadata": {
    "executionInfo": {
     "elapsed": 14,
     "status": "ok",
     "timestamp": 1755156839054,
     "user": {
      "displayName": "m. otto",
      "userId": "07165694256129537082"
     },
     "user_tz": -120
    },
    "id": "hmgikpVlT0Cz"
   },
   "outputs": [],
   "source": [
    "\n",
    "def reduce_dimensions_pca(embeddings, n_components=50):\n",
    "    with tqdm(total=1, desc=\"PCA reduction\", unit=\"step\") as pbar:\n",
    "        pca_model = PCA(\n",
    "            n_components=n_components, #number of dimensions\n",
    "            random_state=42\n",
    "        )\n",
    "        reduced_embeddings = pca_model.fit_transform(embeddings)\n",
    "        pbar.update(1)\n",
    "\n",
    "    return reduced_embeddings, pca_model"
   ]
  },
  {
   "cell_type": "markdown",
   "metadata": {
    "id": "aCl4M67NOZTg"
   },
   "source": [
    "**CLUSTERING**\n",
    "\n",
    "The input embeddings ar now clustered into groups of similar embeddings which allows the model to extract the topics.\n",
    "\n",
    "Further Reading:\n",
    "\n",
    "https://www.zotero.org/michael.otto/collections/3PKFGDVB\n",
    "\n",
    "https://maartengr.github.io/BERTopic/getting_started/clustering/clustering.html"
   ]
  },
  {
   "cell_type": "markdown",
   "metadata": {
    "id": "jHlfs-8mlfuL"
   },
   "source": [
    "*HDBScan*"
   ]
  },
  {
   "cell_type": "code",
   "execution_count": null,
   "metadata": {
    "executionInfo": {
     "elapsed": 10,
     "status": "ok",
     "timestamp": 1755156839057,
     "user": {
      "displayName": "m. otto",
      "userId": "07165694256129537082"
     },
     "user_tz": -120
    },
    "id": "kSl5RB0mOxrK"
   },
   "outputs": [],
   "source": [
    "def cluster_embeddings_hdb(reduced_embeddings):\n",
    "  hdbscan_model = HDBSCAN(\n",
    "      min_cluster_size=15, #minimal amount of tokens in a cluster\n",
    "      min_samples=10,\n",
    "      metric='euclidean', #metric for measuring distance between points\n",
    "      cluster_selection_method='eom',\n",
    "      prediction_data=True\n",
    "  ).fit(reduced_embeddings)\n",
    "\n",
    "  clusters = hdbscan_model.labels_\n",
    "\n",
    "  n_clusters = len(set(clusters)) - (1 if -1 in clusters else 0)\n",
    "  print(f\"Total clusters (excluding noise): {n_clusters}\")\n",
    "\n",
    "\n",
    "  n_noise = np.sum(clusters == -1)\n",
    "  print(f\"Noise points: {n_noise} ({n_noise / len(clusters):.1%} of all paragraphs)\")\n",
    "\n",
    "  cluster_sizes = pd.Series(clusters).value_counts().sort_values(ascending=False)\n",
    "  print(\"\\nTop 10 cluster sizes (cluster_id: size):\")\n",
    "  print(cluster_sizes.head(10))\n",
    "\n",
    "  print(\"\\nSmallest 10 non-noise cluster sizes:\")\n",
    "  print(cluster_sizes[cluster_sizes.index != -1].tail(10))\n",
    "\n",
    "  return clusters, hdbscan_model"
   ]
  },
  {
   "cell_type": "markdown",
   "metadata": {
    "id": "zpW_OdspXLMp"
   },
   "source": [
    "*k-means* (Alternative)"
   ]
  },
  {
   "cell_type": "code",
   "execution_count": null,
   "metadata": {
    "executionInfo": {
     "elapsed": 11,
     "status": "ok",
     "timestamp": 1755156839061,
     "user": {
      "displayName": "m. otto",
      "userId": "07165694256129537082"
     },
     "user_tz": -120
    },
    "id": "MUvXyZ03XOs9"
   },
   "outputs": [],
   "source": [
    "def cluster_embeddings_kmeans(reduced_embeddings):\n",
    "    n_clusters = 50\n",
    "    kmeans = KMeans(n_clusters=n_clusters, random_state=42)\n",
    "    clusters = kmeans.fit_predict(reduced_embeddings)\n",
    "\n",
    "    print(f\"Total clusters: {n_clusters}\")\n",
    "    cluster_sizes = pd.Series(clusters).value_counts().sort_values(ascending=False)\n",
    "\n",
    "    print(\"\\nTop 10 cluster sizes (cluster_id: size):\")\n",
    "    print(cluster_sizes.head(10))\n",
    "\n",
    "    print(\"\\nSmallest 10 cluster sizes:\")\n",
    "    print(cluster_sizes.tail(10))\n",
    "\n",
    "    return clusters, kmeans"
   ]
  },
  {
   "cell_type": "markdown",
   "metadata": {
    "id": "dkDlAelfPmeu"
   },
   "source": [
    "*Inspect a Cluster*"
   ]
  },
  {
   "cell_type": "code",
   "execution_count": null,
   "metadata": {
    "executionInfo": {
     "elapsed": 28,
     "status": "ok",
     "timestamp": 1755156839081,
     "user": {
      "displayName": "m. otto",
      "userId": "07165694256129537082"
     },
     "user_tz": -120
    },
    "id": "MAyn37m-QH0T"
   },
   "outputs": [],
   "source": [
    "def inspection(clusters, texts):\n",
    "  cluster = 3\n",
    "  for index in np.where(clusters==cluster)[0][:3]:\n",
    "      print(texts[index][:300] + \"... \\n\")"
   ]
  },
  {
   "cell_type": "markdown",
   "metadata": {
    "id": "sNSeyHJxpySO"
   },
   "source": [
    "*Reduce Embeddings for Plotting*"
   ]
  },
  {
   "cell_type": "code",
   "execution_count": null,
   "metadata": {
    "executionInfo": {
     "elapsed": 21,
     "status": "ok",
     "timestamp": 1755156839098,
     "user": {
      "displayName": "m. otto",
      "userId": "07165694256129537082"
     },
     "user_tz": -120
    },
    "id": "eGzh-5pRp2Vm"
   },
   "outputs": [],
   "source": [
    "def reduce_st_plot_embeds(embeddings):\n",
    "  reduced_embeddings = UMAP(\n",
    "      n_components=2, min_dist=0.0, metric='cosine', random_state=42 #reduce to 2 dimensions to enable plotting\n",
    "  ).fit_transform(embeddings)\n",
    "  return reduced_embeddings"
   ]
  },
  {
   "cell_type": "markdown",
   "metadata": {
    "id": "i9x41ENZQaY5"
   },
   "source": [
    "*Static plot for the cluster*"
   ]
  },
  {
   "cell_type": "code",
   "execution_count": null,
   "metadata": {
    "executionInfo": {
     "elapsed": 6,
     "status": "ok",
     "timestamp": 1755156839102,
     "user": {
      "displayName": "m. otto",
      "userId": "07165694256129537082"
     },
     "user_tz": -120
    },
    "id": "Qdx6xMBnQ7g3"
   },
   "outputs": [],
   "source": [
    "def static_plot(clusters, texts, reduced_embeddings, save_path=None):\n",
    "    df = pd.DataFrame(reduced_embeddings, columns=[\"x\", \"y\"])\n",
    "    df[\"cluster\"] = [str(c) for c in clusters]\n",
    "\n",
    "    clusters_df = df[df[\"cluster\"] != \"-1\"]\n",
    "    outliers_df = df[df[\"cluster\"] == \"-1\"]\n",
    "\n",
    "    plt.figure(figsize=(10, 8))\n",
    "\n",
    "    # Plot outliers\n",
    "    plt.scatter(outliers_df.x, outliers_df.y, alpha=0.05, s=2, c=\"grey\", label=\"Noise\")\n",
    "\n",
    "    # Plot clusters\n",
    "    scatter = plt.scatter(\n",
    "        clusters_df.x, clusters_df.y,\n",
    "        c=clusters_df.cluster.astype(int),\n",
    "        alpha=0.6, s=2, cmap='tab20b', label=\"Clusters\"\n",
    "    )\n",
    "\n",
    "    plt.axis('off')\n",
    "\n",
    "    if save_path:\n",
    "        plt.savefig(save_path, dpi=300, bbox_inches='tight')\n",
    "        print(f\"Plot saved to {save_path}\")\n",
    "\n",
    "    plt.show()\n",
    "    plt.close()"
   ]
  },
  {
   "cell_type": "markdown",
   "metadata": {
    "id": "p5_JVelUR8L6"
   },
   "source": [
    "*Training the model*"
   ]
  },
  {
   "cell_type": "code",
   "execution_count": null,
   "metadata": {
    "executionInfo": {
     "elapsed": 37,
     "status": "ok",
     "timestamp": 1755156839137,
     "user": {
      "displayName": "m. otto",
      "userId": "07165694256129537082"
     },
     "user_tz": -120
    },
    "id": "qpgzXdx2RtX8"
   },
   "outputs": [],
   "source": [
    "def train_model(texts, embeddings):\n",
    "    topic_model = BERTopic(\n",
    "        embedding_model = model,\n",
    "        #embedding_model=SentenceTransformer('paraphrase-multilingual-MiniLM-L12-v2'), # Use the SentenceTransformer model directly for pca\n",
    "        umap_model=umap_model,\n",
    "        #optional\n",
    "        #umap_model = pca_model, #alternative to the umap model, for usage do not forget to also change it in the pipeline\n",
    "        hdbscan_model=hdbscan_model,\n",
    "        #hdbscan_model=kmeans, #alternative to the hdbscan model, for usage do not forget to also change it in the pipeline\n",
    "        language=\"multilingual\",\n",
    "        verbose=True\n",
    "    )\n",
    "\n",
    "    topics, probs = topic_model.fit_transform(texts, embeddings)\n",
    "\n",
    "    return topic_model, topics, probs"
   ]
  },
  {
   "cell_type": "markdown",
   "metadata": {
    "id": "fcRf1ghISsUQ"
   },
   "source": [
    "*Align Dataframe*"
   ]
  },
  {
   "cell_type": "code",
   "execution_count": null,
   "metadata": {
    "executionInfo": {
     "elapsed": 15,
     "status": "ok",
     "timestamp": 1755156839140,
     "user": {
      "displayName": "m. otto",
      "userId": "07165694256129537082"
     },
     "user_tz": -120
    },
    "id": "FjGU4PQnSxM6"
   },
   "outputs": [],
   "source": [
    "def align_df_par(df_par, topics, probs):\n",
    "  df_par_aligned = df_par.loc[[i for i, t in enumerate(texts) if isinstance(t, str) and t.strip() != \"\"]].copy()\n",
    "\n",
    "  df_par_aligned['pred_topic'] = topics\n",
    "  df_par_aligned['pred_prob']  = probs   # probs is already one float per row\n",
    "  df_par = df_par_aligned\n",
    "  return df_par"
   ]
  },
  {
   "cell_type": "markdown",
   "metadata": {
    "id": "unLQK-jrVw9R"
   },
   "source": [
    "**VECTORIZERS**\n",
    "\n",
    "Allows for interpretable topic represantations.\n",
    "\n",
    "Further Reading:\n",
    "\n",
    "https://maartengr.github.io/BERTopic/getting_started/vectorizers/vectorizers.html\n",
    "\n",
    "https://www.zotero.org/michael.otto/collections/368TFPZM\n",
    "\n",
    "\n",
    "https://github.com/stopwords-iso/stopwords-iso\n"
   ]
  },
  {
   "cell_type": "markdown",
   "metadata": {
    "id": "78hOVWraV3yk"
   },
   "source": [
    "*Count Vectorizer*"
   ]
  },
  {
   "cell_type": "code",
   "execution_count": null,
   "metadata": {
    "executionInfo": {
     "elapsed": 16,
     "status": "ok",
     "timestamp": 1755156839146,
     "user": {
      "displayName": "m. otto",
      "userId": "07165694256129537082"
     },
     "user_tz": -120
    },
    "id": "Gw4aYZoLV0ey"
   },
   "outputs": [],
   "source": [
    "def adjust_stop_words(topic_model, texts, langs):\n",
    "  stop_words = [\"et\", \"in\", \"est\", \"ad\", \"qui\", \"autem\", \"non\", \"de\", \"eius\", \"ut\", \"quae\", \"cum\", \"si\", \"eum\"]\n",
    "  stop_words = set()\n",
    "\n",
    "  sw = set()\n",
    "  #stopwordsiso is a ell amintained library following the ISO 639-1 language code, available languages can be displyed with stopwords.langs()\n",
    "  for lang in langs:\n",
    "    if isinstance(lang, str) and stopwords.has_lang(lang):\n",
    "      sw.update(stopwords.stopwords(lang))\n",
    "\n",
    "  stop_words = list(sw)\n",
    "  stop_words = list(stop_words)\n",
    "\n",
    "  vectorizer_model = CountVectorizer(stop_words=stop_words)\n",
    "  topic_model.update_topics(texts, vectorizer_model=vectorizer_model)\n",
    "  return stop_words"
   ]
  },
  {
   "cell_type": "markdown",
   "metadata": {
    "id": "gj3wwwyS8aBf"
   },
   "source": [
    "*Topic Infos*"
   ]
  },
  {
   "cell_type": "code",
   "execution_count": null,
   "metadata": {
    "executionInfo": {
     "elapsed": 3,
     "status": "ok",
     "timestamp": 1755156839183,
     "user": {
      "displayName": "m. otto",
      "userId": "07165694256129537082"
     },
     "user_tz": -120
    },
    "id": "LYq9kewq8cXQ"
   },
   "outputs": [],
   "source": [
    "def topic_infos(topic_model):\n",
    "  print(topic_model.get_topic_info())\n",
    "  print(topic_model.find_topics(\"baskisch\"))\n",
    "  print(topic_model.get_topic(0))\n",
    "  print(topic_model.get_topic(24))\n"
   ]
  },
  {
   "cell_type": "markdown",
   "metadata": {
    "id": "W0GyFljK6sKI"
   },
   "source": [
    "*Build dataframe*"
   ]
  },
  {
   "cell_type": "code",
   "execution_count": null,
   "metadata": {
    "executionInfo": {
     "elapsed": 3,
     "status": "ok",
     "timestamp": 1755156839190,
     "user": {
      "displayName": "m. otto",
      "userId": "07165694256129537082"
     },
     "user_tz": -120
    },
    "id": "tgBr2NTf6cLb"
   },
   "outputs": [],
   "source": [
    "def snapshot_topics_df(df_par, texts, topics, probs, topic_model, *,\n",
    "                       n_words=5, combine_sections=False):\n",
    "    # keep only non-empty text rows and align arrays\n",
    "    mask = [isinstance(t, str) and t.strip() != \"\" for t in texts]\n",
    "    df = df_par.loc[mask].copy()\n",
    "    f_topics = [t for t, keep in zip(topics, mask) if keep]\n",
    "    f_probs  = [p for p, keep in zip(probs,  mask) if keep]\n",
    "\n",
    "    def top_words(tid, k=n_words):\n",
    "        words = topic_model.get_topic(tid) or []\n",
    "        return \", \".join([w for w, _ in words[:k]]) if words else None\n",
    "\n",
    "    df[\"pred_topic\"] = f_topics\n",
    "    df[\"pred_prob\"]  = f_probs\n",
    "    df[\"topic_top_words\"] = df[\"pred_topic\"].map(lambda t: top_words(t, n_words))\n",
    "\n",
    "    if combine_sections:\n",
    "        df = combine_letter_sections_append_topics(\n",
    "            df,\n",
    "            id_col=\"pid\",\n",
    "            text_col=\"text\",\n",
    "            topic_col=\"pred_topic\",\n",
    "            prob_col=\"pred_prob\",\n",
    "            lang_col=\"language\",\n",
    "        )\n",
    "    return df"
   ]
  },
  {
   "cell_type": "code",
   "execution_count": null,
   "metadata": {
    "executionInfo": {
     "elapsed": 35,
     "status": "ok",
     "timestamp": 1755156839228,
     "user": {
      "displayName": "m. otto",
      "userId": "07165694256129537082"
     },
     "user_tz": -120
    },
    "id": "yYqJNK6rAzvS"
   },
   "outputs": [],
   "source": [
    "def combine_letter_sections_append_topics( #recombines the split sections form the preprocessing\n",
    "    df,\n",
    "    id_col=\"pid\",\n",
    "    text_col=\"text\",\n",
    "    topic_col=\"pred_topic\",\n",
    "    prob_col=\"pred_prob\",\n",
    "    lang_col=\"language\",\n",
    "):\n",
    "    df = df.copy()\n",
    "\n",
    "    # Regex L.<letter>-<para>-<section>\n",
    "    pat = re.compile(r\"^L\\.([^-]+)-([^-]+)-([^-]+)$\")\n",
    "    sect_mask = df[id_col].astype(str).str.match(pat)\n",
    "\n",
    "    if not sect_mask.any():\n",
    "        return df\n",
    "\n",
    "    sections = df.loc[sect_mask].copy()\n",
    "\n",
    "    parent_ids, section_idxs = [], []\n",
    "    for pid in sections[id_col].astype(str):\n",
    "        m = pat.match(pid)\n",
    "        letter, para, sec = m.group(1), m.group(2), m.group(3)\n",
    "        try:\n",
    "            sec_i = int(sec)\n",
    "        except Exception:\n",
    "            sec_i = float(\"inf\")\n",
    "        parent_ids.append(f\".{letter}-{para}\")\n",
    "        section_idxs.append(sec_i)\n",
    "\n",
    "    sections[\"_parent_id\"] = parent_ids\n",
    "    sections[\"_section_idx\"] = section_idxs\n",
    "\n",
    "    df_no_sections = df.loc[~sect_mask].copy()\n",
    "    agg_rows = []\n",
    "\n",
    "    for parent_id, g in sections.sort_values(\"_section_idx\").groupby(\"_parent_id\"):\n",
    "        combined_text = \" \".join([str(t) for t in g[text_col] if pd.notna(t) and str(t).strip()])\n",
    "\n",
    "        combined_topics = \", \".join([str(t) for t in g[topic_col] if pd.notna(t)])\n",
    "\n",
    "        combined_probs = \", \".join([str(p) for p in g[prob_col] if pd.notna(p)])\n",
    "\n",
    "        lang = None\n",
    "        if lang_col in g:\n",
    "            mode_lang = g[lang_col].mode(dropna=True)\n",
    "            lang = mode_lang.iloc[0] if not mode_lang.empty else None\n",
    "\n",
    "        if (df_no_sections[id_col] == parent_id).any():\n",
    "            base_idx = df_no_sections.index[df_no_sections[id_col] == parent_id][0]\n",
    "            df_no_sections.at[base_idx, text_col] = (\n",
    "                (str(df_no_sections.at[base_idx, text_col]) + \" \" + combined_text).strip()\n",
    "            )\n",
    "            df_no_sections.at[base_idx, topic_col] = (\n",
    "                (str(df_no_sections.at[base_idx, topic_col]) + \", \" + combined_topics).strip(\", \")\n",
    "            )\n",
    "            df_no_sections.at[base_idx, prob_col] = (\n",
    "                (str(df_no_sections.at[base_idx, prob_col]) + \", \" + combined_probs).strip(\", \")\n",
    "            )\n",
    "            if lang_col in df_no_sections.columns and lang is not None:\n",
    "                df_no_sections.at[base_idx, lang_col] = lang\n",
    "        else:\n",
    "            first = g.iloc[0].to_dict()\n",
    "            new_row = {col: None for col in df.columns}\n",
    "            new_row.update(first)\n",
    "            new_row[id_col] = parent_id\n",
    "            new_row[text_col] = combined_text\n",
    "            new_row[topic_col] = combined_topics\n",
    "            new_row[prob_col] = combined_probs\n",
    "            if lang_col in new_row and lang is not None:\n",
    "                new_row[lang_col] = lang\n",
    "            agg_rows.append(new_row)\n",
    "\n",
    "    if agg_rows:\n",
    "        df_no_sections = pd.concat([df_no_sections, pd.DataFrame(agg_rows)], ignore_index=True)\n",
    "\n",
    "    return df_no_sections"
   ]
  },
  {
   "cell_type": "markdown",
   "metadata": {
    "id": "Zkm3gxzBWoGf"
   },
   "source": [
    "*Visualisation of topics*"
   ]
  },
  {
   "cell_type": "code",
   "execution_count": null,
   "metadata": {
    "executionInfo": {
     "elapsed": 18,
     "status": "ok",
     "timestamp": 1755156839242,
     "user": {
      "displayName": "m. otto",
      "userId": "07165694256129537082"
     },
     "user_tz": -120
    },
    "id": "S5mH9iemWnqD"
   },
   "outputs": [],
   "source": [
    "def visualize_topics(topic_infos, texts, reduced_embeddings):\n",
    "\n",
    "  # Visualize barchart with ranked keywords\n",
    "  topic_infos.visualize_barchart().show()\n",
    "\n",
    "  # Visualize relationships between topics\n",
    "  topic_infos.visualize_heatmap(n_clusters=15).show()\n",
    "\n",
    "  # Visualize the potential hierarchical structure of topics\n",
    "  topic_infos.visualize_hierarchy().show()"
   ]
  },
  {
   "cell_type": "markdown",
   "metadata": {
    "id": "9xkidcpiXMCw"
   },
   "source": [
    "**FINETUNING**\n",
    "\n",
    "Can further extract the semantic relationship between words by using a multitude of representation models.\n",
    "\n",
    "Further Reading:\n",
    "\n",
    "https://maartengr.github.io/BERTopic/getting_started/representation/representation.html\n",
    "\n",
    "https://www.zotero.org/michael.otto/collections/KRFUSVYB\n"
   ]
  },
  {
   "cell_type": "markdown",
   "metadata": {
    "id": "_HXP1IrT_T6K"
   },
   "source": [
    "*Representation Models*"
   ]
  },
  {
   "cell_type": "code",
   "execution_count": null,
   "metadata": {
    "executionInfo": {
     "elapsed": 2,
     "status": "ok",
     "timestamp": 1755156839247,
     "user": {
      "displayName": "m. otto",
      "userId": "07165694256129537082"
     },
     "user_tz": -120
    },
    "id": "KNL5GG7OAupF"
   },
   "outputs": [],
   "source": [
    "def topic_differences(original_topics, updated_topics, nr_topics=5):\n",
    "    df = pd.DataFrame(columns=[\"Topic\", \"Original\", \"Updated\"])\n",
    "    for topic in range(nr_topics):\n",
    "        og_words = \" \".join(list(zip(*original_topics[topic]))[0][:3])\n",
    "        new_words = \" \".join(list(zip(*updated_topics[topic]))[0][:3])\n",
    "        df.loc[len(df)] = [topic, og_words, new_words]\n",
    "    return df\n"
   ]
  },
  {
   "cell_type": "markdown",
   "metadata": {
    "id": "CmBwiY_kAg2r"
   },
   "source": [
    "*KeyBERTInspired*"
   ]
  },
  {
   "cell_type": "code",
   "execution_count": null,
   "metadata": {
    "executionInfo": {
     "elapsed": 3,
     "status": "ok",
     "timestamp": 1755156839253,
     "user": {
      "displayName": "m. otto",
      "userId": "07165694256129537082"
     },
     "user_tz": -120
    },
    "id": "T4JJ0apoAqg2"
   },
   "outputs": [],
   "source": [
    "def keybert_topic_diffs(topic_model, original_topics, texts):\n",
    "  representation_model = KeyBERTInspired()\n",
    "  topic_model.update_topics(texts, representation_model=representation_model)\n",
    "  updated_topics = topic_model.topic_representations_\n",
    "  diff_df = topic_differences(original_topics, updated_topics, nr_topics=15)\n",
    "\n",
    "  return diff_df, updated_topics"
   ]
  },
  {
   "cell_type": "markdown",
   "metadata": {
    "id": "Ik6uPJi8Fe5I"
   },
   "source": [
    "*Maximal Marginal Relevance*"
   ]
  },
  {
   "cell_type": "code",
   "execution_count": null,
   "metadata": {
    "executionInfo": {
     "elapsed": 15,
     "status": "ok",
     "timestamp": 1755156839271,
     "user": {
      "displayName": "m. otto",
      "userId": "07165694256129537082"
     },
     "user_tz": -120
    },
    "id": "OfZc6Xr6FekX"
   },
   "outputs": [],
   "source": [
    "def max_marg_rel(topic_model, texts, original_topics, nr_topics=5):\n",
    "    mmr = MaximalMarginalRelevance(diversity=0.5)\n",
    "\n",
    "    topic_model.update_topics(\n",
    "        texts,\n",
    "        representation_model=mmr         # swap in MMR\n",
    "    )\n",
    "    updated_topics_mmr = topic_model.topic_representations_\n",
    "    diff_df = topic_differences(original_topics, updated_topics_mmr, nr_topics=nr_topics)\n",
    "\n",
    "    return diff_df, updated_topics_mmr"
   ]
  },
  {
   "cell_type": "markdown",
   "metadata": {
    "id": "iaA7xVbBQVEf"
   },
   "source": [
    "**MAIN PIPELINE**"
   ]
  },
  {
   "cell_type": "code",
   "execution_count": null,
   "metadata": {
    "colab": {
     "base_uri": "https://localhost:8080/",
     "height": 1000,
     "referenced_widgets": [
      "c75e4e01baea4fdaad98d7c7b45f8efc",
      "b863b9307c924b12bb1b0b7ffc8eb186",
      "f5bf385a560a4acfa778389f991d1be6",
      "c8638e2742544f6982079de83a1f5330",
      "94d64dc5425c4ef0b0b90e9000e5acf7",
      "ce622dad44654bb0942ae189c9074ad0",
      "7ddd7b0f17314055b0f67b80dfe07435",
      "10c5f6c19af64e4491a0b37a2f73043b",
      "897a8b1a8bf04aba92ed642c2d7af7c2",
      "699aad5f1ee945498dc6eb60dc6c42b9",
      "2de467a416b74fe980ce5dac8bf497ff",
      "4bc978269eff439b984c7ca4175984a9",
      "397978e3f2d34a1bb7af29ba52f5c770",
      "5b0452ce13474adf9cf71e9fd8f6a28d",
      "10394fb712db40fa89f680f047218f2a",
      "2a9b9a4ba387454b9845b8c82bdf8987",
      "0717c5fb0e134b54899229ae7a9786b4",
      "a5e5e2f4551a406a95693e7b75f20abb",
      "cbe73ba786cc4e1398d2890ca611965d",
      "3a3ace3276fa45948db2f8fdab03a782",
      "b84904e6d5044367bd789733ac38d989",
      "686711190c3544cd846da3393165f697"
     ]
    },
    "executionInfo": {
     "elapsed": 450743,
     "status": "ok",
     "timestamp": 1755157290018,
     "user": {
      "displayName": "m. otto",
      "userId": "07165694256129537082"
     },
     "user_tz": -120
    },
    "id": "HMZYYZbxdBL9",
    "outputId": "0685e452-261c-4cc8-bd2f-7b003afcc08c"
   },
   "outputs": [],
   "source": [
    "file_path = '/content/drive/MyDrive/DDH25/letters_py.csv'  # ← adjust if needed\n",
    "df, df_par = load_and_validate_csv(file_path)\n",
    "pids, texts, langs = prepare_text_data(df_par)\n",
    "model, embeddings = embed_docs(texts)\n",
    "reduced_embeddings, umap_model = reduce_dimensions(embeddings)\n",
    "#OPTIONAL (and only combined with k-means):\n",
    "#reduced_embeddings, pca_model = reduce_dimensions_pca(embeddings)  #alternative to the umap model, for usage do not forget to also change it in the train_model function\n",
    "clusters, hdbscan_model = cluster_embeddings_hdb(reduced_embeddings)\n",
    "# OPTIONAL:\n",
    "#clusters, kmeans = cluster_embeddings_kmeans(reduced_embeddings) #alternative to the hdbscan model, for usage do not forget to also change it in the train_model function\n",
    "inspection(clusters, texts)\n",
    "reduced_embeddings = reduce_st_plot_embeds(embeddings)\n",
    "static_plot(clusters, texts, reduced_embeddings)\n",
    "topic_model, topics, probs = train_model(texts, embeddings)\n",
    "df_par = align_df_par(df_par, topics, probs)\n",
    "topic_infos(topic_model)\n",
    "vectorizer_model = adjust_stop_words(topic_model, texts, langs)\n",
    "base_df = snapshot_topics_df(df_par, texts, topics, probs, topic_model,\n",
    "                             n_words=5, combine_sections=True)\n",
    "\n",
    "original_topics = deepcopy(topic_model.topic_representations_)\n",
    "\n",
    "#explore different finetunig options\n",
    "topic_model_keybert = deepcopy(topic_model)\n",
    "topic_model_mmr     = deepcopy(topic_model)\n",
    "topics_base, probs_base = topic_model.transform(texts)\n",
    "\n",
    "diff_df, updated_topics_keybert = keybert_topic_diffs(topic_model_keybert, original_topics, texts)\n",
    "df_keybert = snapshot_topics_df(df_par, texts, topics_base, probs_base, topic_model_keybert,\n",
    "                                n_words=5, combine_sections=True)\n",
    "#print(diff_df)\n",
    "\n",
    "diff_df, updated_topics_mmr = max_marg_rel(topic_model_mmr, texts, original_topics)\n",
    "df_mmr = snapshot_topics_df(df_par, texts, topics_base, probs_base, topic_model_mmr,\n",
    "                            n_words=5, combine_sections=True)\n",
    "#print(diff_df)"
   ]
  },
  {
   "cell_type": "markdown",
   "metadata": {
    "id": "pNOgOHnJfnPx"
   },
   "source": [
    "**Visualisation**"
   ]
  },
  {
   "cell_type": "code",
   "execution_count": null,
   "metadata": {
    "colab": {
     "base_uri": "https://localhost:8080/",
     "height": 1000
    },
    "executionInfo": {
     "elapsed": 2400,
     "status": "ok",
     "timestamp": 1755157292427,
     "user": {
      "displayName": "m. otto",
      "userId": "07165694256129537082"
     },
     "user_tz": -120
    },
    "id": "jzlqhG0_tDFF",
    "outputId": "4e6f8abb-55a1-41bc-d9fa-9ad5cfc0f8de"
   },
   "outputs": [],
   "source": [
    "visualize_topics(topic_model, texts, reduced_embeddings)\n",
    "visualize_topics(topic_model_keybert, texts, reduced_embeddings)\n",
    "visualize_topics(topic_model_mmr, texts, reduced_embeddings)"
   ]
  },
  {
   "cell_type": "code",
   "execution_count": null,
   "metadata": {
    "colab": {
     "base_uri": "https://localhost:8080/",
     "height": 293
    },
    "executionInfo": {
     "elapsed": 298,
     "status": "ok",
     "timestamp": 1755157292724,
     "user": {
      "displayName": "m. otto",
      "userId": "07165694256129537082"
     },
     "user_tz": -120
    },
    "id": "T02PPFqyG5QI",
    "outputId": "9ab5b16a-d0da-4542-99c2-73cc19c580f8"
   },
   "outputs": [],
   "source": [
    "base_df.head()\n"
   ]
  },
  {
   "cell_type": "code",
   "execution_count": null,
   "metadata": {
    "colab": {
     "base_uri": "https://localhost:8080/",
     "height": 293
    },
    "executionInfo": {
     "elapsed": 303,
     "status": "ok",
     "timestamp": 1755157293037,
     "user": {
      "displayName": "m. otto",
      "userId": "07165694256129537082"
     },
     "user_tz": -120
    },
    "id": "5mPH58-iHGeE",
    "outputId": "ec22eb58-edde-4dc6-e4e6-2bd3bcfa20ae"
   },
   "outputs": [],
   "source": [
    "df_keybert.head()"
   ]
  },
  {
   "cell_type": "code",
   "execution_count": null,
   "metadata": {
    "colab": {
     "base_uri": "https://localhost:8080/",
     "height": 293
    },
    "executionInfo": {
     "elapsed": 249,
     "status": "ok",
     "timestamp": 1755157293285,
     "user": {
      "displayName": "m. otto",
      "userId": "07165694256129537082"
     },
     "user_tz": -120
    },
    "id": "VAJKW02AHHOh",
    "outputId": "3a0498ac-d872-4240-a28d-13d67857f956"
   },
   "outputs": [],
   "source": [
    "df_mmr.head()"
   ]
  },
  {
   "cell_type": "markdown",
   "metadata": {
    "id": "A3xb6T-dHwNQ"
   },
   "source": [
    "**Representation**"
   ]
  },
  {
   "cell_type": "code",
   "execution_count": null,
   "metadata": {
    "colab": {
     "base_uri": "https://localhost:8080/",
     "height": 363
    },
    "executionInfo": {
     "elapsed": 145668,
     "status": "ok",
     "timestamp": 1755157438952,
     "user": {
      "displayName": "m. otto",
      "userId": "07165694256129537082"
     },
     "user_tz": -120
    },
    "id": "DA8LXoePHxAh",
    "outputId": "cd9f86b0-6229-4385-aec0-7916077bdc9a"
   },
   "outputs": [],
   "source": [
    "client = OpenAI(api_key=\"\") # insert openai api key here\n",
    "rep = OpenAIRep(client, model=\"gpt-4o-mini\", chat=True)\n",
    "topic_model.update_topics(texts, representation_model=rep) # allows for creating labels that encompass the topic\n",
    "df_llm = snapshot_topics_df(df_par, texts, topics, probs, topic_model, n_words=5,\n",
    "                            combine_sections=True)\n",
    "\n",
    "label_map = topic_model.topic_labels_\n",
    "df_llm[\"topic_label\"] = df_llm[\"pred_topic\"].map(label_map)\n",
    "df_llm.head()"
   ]
  },
  {
   "cell_type": "code",
   "execution_count": null,
   "metadata": {
    "colab": {
     "base_uri": "https://localhost:8080/"
    },
    "executionInfo": {
     "elapsed": 21,
     "status": "ok",
     "timestamp": 1755157438975,
     "user": {
      "displayName": "m. otto",
      "userId": "07165694256129537082"
     },
     "user_tz": -120
    },
    "id": "oF4Y6_oIMip2",
    "outputId": "6f43ff58-2d4d-4166-bc86-a606a899455b"
   },
   "outputs": [],
   "source": [
    "unique_topics = sorted(df_llm[\"topic_top_words\"].drop_duplicates())\n",
    "print(\"\\n\".join(unique_topics))"
   ]
  },
  {
   "cell_type": "markdown",
   "metadata": {
    "id": "3Z8WsUEXOczn"
   },
   "source": [
    "**Timeline**"
   ]
  },
  {
   "cell_type": "code",
   "execution_count": null,
   "metadata": {
    "executionInfo": {
     "elapsed": 4,
     "status": "ok",
     "timestamp": 1755157438983,
     "user": {
      "displayName": "m. otto",
      "userId": "07165694256129537082"
     },
     "user_tz": -120
    },
    "id": "xHdttPJKOgsv"
   },
   "outputs": [],
   "source": [
    "def add_date_cols(df, date_col=\"date\"):\n",
    "    d = df.copy()\n",
    "    year_only = d[date_col].astype(str).str.fullmatch(r\"\\d{4}\")\n",
    "    d[\"date_dt\"] = pd.to_datetime(d[date_col], errors=\"coerce\")\n",
    "    d.loc[year_only, \"date_dt\"] = pd.to_datetime(d.loc[year_only, date_col] + \"-01-01\", errors=\"coerce\")\n",
    "    d[\"year\"] = d[\"date_dt\"].dt.year\n",
    "    return d"
   ]
  },
  {
   "cell_type": "code",
   "execution_count": null,
   "metadata": {
    "executionInfo": {
     "elapsed": 5,
     "status": "ok",
     "timestamp": 1755157650341,
     "user": {
      "displayName": "m. otto",
      "userId": "07165694256129537082"
     },
     "user_tz": -120
    },
    "id": "1yHL4KQJOhiw"
   },
   "outputs": [],
   "source": [
    "\n",
    "def build_timeline(df, topic_col=\"topic_top_words\", top_n=8, freq=\"Y\"):\n",
    "    \"\"\"freq='Y' yearly, 'M' monthly (only rows with full dates contribute).\"\"\"\n",
    "    d = df.dropna(subset=[\"date_dt\", topic_col]).copy()\n",
    "    top_topics = d[topic_col].value_counts().head(top_n).index\n",
    "    top_topics = top_topics[3:] #enable this to leave out the most dominant topics\n",
    "    d = d[d[topic_col].isin(top_topics)]\n",
    "    ts = (d.set_index(\"date_dt\")\n",
    "            .groupby([pd.Grouper(freq=freq), topic_col]).size()\n",
    "            .rename(\"count\").reset_index())\n",
    "    wide = ts.pivot(index=\"date_dt\", columns=topic_col, values=\"count\").fillna(0).sort_index()\n",
    "    return wide"
   ]
  },
  {
   "cell_type": "code",
   "execution_count": null,
   "metadata": {
    "executionInfo": {
     "elapsed": 15,
     "status": "ok",
     "timestamp": 1755157439011,
     "user": {
      "displayName": "m. otto",
      "userId": "07165694256129537082"
     },
     "user_tz": -120
    },
    "id": "z5l4WgwNOqY-"
   },
   "outputs": [],
   "source": [
    "def plot_timeline(wide, title=\"Topics over Time\"):\n",
    "    if wide.empty:\n",
    "        print(\"No data to plot.\")\n",
    "        return\n",
    "    ax = wide.plot.area(figsize=(12, 6))\n",
    "    ax.set_title(title)\n",
    "    ax.set_xlabel(\"Time\")\n",
    "    ax.set_ylabel(\"# Documents\")\n",
    "    ax.legend(title=\"Topic\", bbox_to_anchor=(1.02, 1), loc=\"upper left\")\n",
    "    plt.tight_layout()\n",
    "    plt.show()"
   ]
  },
  {
   "cell_type": "code",
   "execution_count": null,
   "metadata": {
    "executionInfo": {
     "elapsed": 11,
     "status": "ok",
     "timestamp": 1755157439013,
     "user": {
      "displayName": "m. otto",
      "userId": "07165694256129537082"
     },
     "user_tz": -120
    },
    "id": "27hnnENEPip-"
   },
   "outputs": [],
   "source": [
    "def to_percent(wide):\n",
    "    share = wide.div(wide.sum(axis=1), axis=0).fillna(0) * 100\n",
    "    return share"
   ]
  },
  {
   "cell_type": "code",
   "execution_count": null,
   "metadata": {
    "colab": {
     "base_uri": "https://localhost:8080/",
     "height": 1000
    },
    "executionInfo": {
     "elapsed": 1013,
     "status": "ok",
     "timestamp": 1755157652448,
     "user": {
      "displayName": "m. otto",
      "userId": "07165694256129537082"
     },
     "user_tz": -120
    },
    "id": "ehqRcDllOtS1",
    "outputId": "f7f0ee85-038e-41b5-d249-371dc2cf81b0"
   },
   "outputs": [],
   "source": [
    "df_llm = add_date_cols(df_llm, date_col=\"date\")\n",
    "yearly = build_timeline(df_llm, topic_col=\"topic_top_words\", top_n=8, freq=\"Y\")\n",
    "plot_timeline(yearly, title=\"Topics over Time in Documents (Yearly)\")\n",
    "yearly_percent = to_percent(yearly)\n",
    "plot_timeline(yearly_percent, title=\"Topics over Time in percent (Yearly)\")"
   ]
  },
  {
   "cell_type": "code",
   "execution_count": null,
   "metadata": {
    "executionInfo": {
     "elapsed": 3155,
     "status": "ok",
     "timestamp": 1755157443028,
     "user": {
      "displayName": "m. otto",
      "userId": "07165694256129537082"
     },
     "user_tz": -120
    },
    "id": "jlmCatkkOgba"
   },
   "outputs": [],
   "source": [
    "safe_path = '/content/drive/MyDrive/DDH25/finalHSA.csv' # <- adjust if needed\n",
    "df_llm.to_csv(safe_path)"
   ]
  }
 ],
 "metadata": {
  "accelerator": "GPU",
  "colab": {
   "authorship_tag": "ABX9TyMlxhoSvS7kbhiO/XsZS6MB",
   "gpuType": "T4",
   "provenance": []
  },
  "kernelspec": {
   "display_name": "ddh25",
   "language": "python",
   "name": "python3"
  },
  "language_info": {
   "name": "python",
   "version": "3.13.5"
  },
  "widgets": {
   "application/vnd.jupyter.widget-state+json": {
    "0717c5fb0e134b54899229ae7a9786b4": {
     "model_module": "@jupyter-widgets/base",
     "model_module_version": "1.2.0",
     "model_name": "LayoutModel",
     "state": {
      "_model_module": "@jupyter-widgets/base",
      "_model_module_version": "1.2.0",
      "_model_name": "LayoutModel",
      "_view_count": null,
      "_view_module": "@jupyter-widgets/base",
      "_view_module_version": "1.2.0",
      "_view_name": "LayoutView",
      "align_content": null,
      "align_items": null,
      "align_self": null,
      "border": null,
      "bottom": null,
      "display": null,
      "flex": null,
      "flex_flow": null,
      "grid_area": null,
      "grid_auto_columns": null,
      "grid_auto_flow": null,
      "grid_auto_rows": null,
      "grid_column": null,
      "grid_gap": null,
      "grid_row": null,
      "grid_template_areas": null,
      "grid_template_columns": null,
      "grid_template_rows": null,
      "height": null,
      "justify_content": null,
      "justify_items": null,
      "left": null,
      "margin": null,
      "max_height": null,
      "max_width": null,
      "min_height": null,
      "min_width": null,
      "object_fit": null,
      "object_position": null,
      "order": null,
      "overflow": null,
      "overflow_x": null,
      "overflow_y": null,
      "padding": null,
      "right": null,
      "top": null,
      "visibility": null,
      "width": null
     }
    },
    "10394fb712db40fa89f680f047218f2a": {
     "model_module": "@jupyter-widgets/controls",
     "model_module_version": "1.5.0",
     "model_name": "HTMLModel",
     "state": {
      "_dom_classes": [],
      "_model_module": "@jupyter-widgets/controls",
      "_model_module_version": "1.5.0",
      "_model_name": "HTMLModel",
      "_view_count": null,
      "_view_module": "@jupyter-widgets/controls",
      "_view_module_version": "1.5.0",
      "_view_name": "HTMLView",
      "description": "",
      "description_tooltip": null,
      "layout": "IPY_MODEL_b84904e6d5044367bd789733ac38d989",
      "placeholder": "​",
      "style": "IPY_MODEL_686711190c3544cd846da3393165f697",
      "value": " 1406/1406 [01:22&lt;00:00, 86.27it/s]"
     }
    },
    "10c5f6c19af64e4491a0b37a2f73043b": {
     "model_module": "@jupyter-widgets/base",
     "model_module_version": "1.2.0",
     "model_name": "LayoutModel",
     "state": {
      "_model_module": "@jupyter-widgets/base",
      "_model_module_version": "1.2.0",
      "_model_name": "LayoutModel",
      "_view_count": null,
      "_view_module": "@jupyter-widgets/base",
      "_view_module_version": "1.2.0",
      "_view_name": "LayoutView",
      "align_content": null,
      "align_items": null,
      "align_self": null,
      "border": null,
      "bottom": null,
      "display": null,
      "flex": null,
      "flex_flow": null,
      "grid_area": null,
      "grid_auto_columns": null,
      "grid_auto_flow": null,
      "grid_auto_rows": null,
      "grid_column": null,
      "grid_gap": null,
      "grid_row": null,
      "grid_template_areas": null,
      "grid_template_columns": null,
      "grid_template_rows": null,
      "height": null,
      "justify_content": null,
      "justify_items": null,
      "left": null,
      "margin": null,
      "max_height": null,
      "max_width": null,
      "min_height": null,
      "min_width": null,
      "object_fit": null,
      "object_position": null,
      "order": null,
      "overflow": null,
      "overflow_x": null,
      "overflow_y": null,
      "padding": null,
      "right": null,
      "top": null,
      "visibility": null,
      "width": null
     }
    },
    "2a9b9a4ba387454b9845b8c82bdf8987": {
     "model_module": "@jupyter-widgets/base",
     "model_module_version": "1.2.0",
     "model_name": "LayoutModel",
     "state": {
      "_model_module": "@jupyter-widgets/base",
      "_model_module_version": "1.2.0",
      "_model_name": "LayoutModel",
      "_view_count": null,
      "_view_module": "@jupyter-widgets/base",
      "_view_module_version": "1.2.0",
      "_view_name": "LayoutView",
      "align_content": null,
      "align_items": null,
      "align_self": null,
      "border": null,
      "bottom": null,
      "display": null,
      "flex": null,
      "flex_flow": null,
      "grid_area": null,
      "grid_auto_columns": null,
      "grid_auto_flow": null,
      "grid_auto_rows": null,
      "grid_column": null,
      "grid_gap": null,
      "grid_row": null,
      "grid_template_areas": null,
      "grid_template_columns": null,
      "grid_template_rows": null,
      "height": null,
      "justify_content": null,
      "justify_items": null,
      "left": null,
      "margin": null,
      "max_height": null,
      "max_width": null,
      "min_height": null,
      "min_width": null,
      "object_fit": null,
      "object_position": null,
      "order": null,
      "overflow": null,
      "overflow_x": null,
      "overflow_y": null,
      "padding": null,
      "right": null,
      "top": null,
      "visibility": null,
      "width": null
     }
    },
    "2de467a416b74fe980ce5dac8bf497ff": {
     "model_module": "@jupyter-widgets/controls",
     "model_module_version": "1.5.0",
     "model_name": "DescriptionStyleModel",
     "state": {
      "_model_module": "@jupyter-widgets/controls",
      "_model_module_version": "1.5.0",
      "_model_name": "DescriptionStyleModel",
      "_view_count": null,
      "_view_module": "@jupyter-widgets/base",
      "_view_module_version": "1.2.0",
      "_view_name": "StyleView",
      "description_width": ""
     }
    },
    "397978e3f2d34a1bb7af29ba52f5c770": {
     "model_module": "@jupyter-widgets/controls",
     "model_module_version": "1.5.0",
     "model_name": "HTMLModel",
     "state": {
      "_dom_classes": [],
      "_model_module": "@jupyter-widgets/controls",
      "_model_module_version": "1.5.0",
      "_model_name": "HTMLModel",
      "_view_count": null,
      "_view_module": "@jupyter-widgets/controls",
      "_view_module_version": "1.5.0",
      "_view_name": "HTMLView",
      "description": "",
      "description_tooltip": null,
      "layout": "IPY_MODEL_0717c5fb0e134b54899229ae7a9786b4",
      "placeholder": "​",
      "style": "IPY_MODEL_a5e5e2f4551a406a95693e7b75f20abb",
      "value": "Batches: 100%"
     }
    },
    "3a3ace3276fa45948db2f8fdab03a782": {
     "model_module": "@jupyter-widgets/controls",
     "model_module_version": "1.5.0",
     "model_name": "ProgressStyleModel",
     "state": {
      "_model_module": "@jupyter-widgets/controls",
      "_model_module_version": "1.5.0",
      "_model_name": "ProgressStyleModel",
      "_view_count": null,
      "_view_module": "@jupyter-widgets/base",
      "_view_module_version": "1.2.0",
      "_view_name": "StyleView",
      "bar_color": null,
      "description_width": ""
     }
    },
    "4bc978269eff439b984c7ca4175984a9": {
     "model_module": "@jupyter-widgets/controls",
     "model_module_version": "1.5.0",
     "model_name": "HBoxModel",
     "state": {
      "_dom_classes": [],
      "_model_module": "@jupyter-widgets/controls",
      "_model_module_version": "1.5.0",
      "_model_name": "HBoxModel",
      "_view_count": null,
      "_view_module": "@jupyter-widgets/controls",
      "_view_module_version": "1.5.0",
      "_view_name": "HBoxView",
      "box_style": "",
      "children": [
       "IPY_MODEL_397978e3f2d34a1bb7af29ba52f5c770",
       "IPY_MODEL_5b0452ce13474adf9cf71e9fd8f6a28d",
       "IPY_MODEL_10394fb712db40fa89f680f047218f2a"
      ],
      "layout": "IPY_MODEL_2a9b9a4ba387454b9845b8c82bdf8987"
     }
    },
    "5b0452ce13474adf9cf71e9fd8f6a28d": {
     "model_module": "@jupyter-widgets/controls",
     "model_module_version": "1.5.0",
     "model_name": "FloatProgressModel",
     "state": {
      "_dom_classes": [],
      "_model_module": "@jupyter-widgets/controls",
      "_model_module_version": "1.5.0",
      "_model_name": "FloatProgressModel",
      "_view_count": null,
      "_view_module": "@jupyter-widgets/controls",
      "_view_module_version": "1.5.0",
      "_view_name": "ProgressView",
      "bar_style": "success",
      "description": "",
      "description_tooltip": null,
      "layout": "IPY_MODEL_cbe73ba786cc4e1398d2890ca611965d",
      "max": 1406,
      "min": 0,
      "orientation": "horizontal",
      "style": "IPY_MODEL_3a3ace3276fa45948db2f8fdab03a782",
      "value": 1406
     }
    },
    "686711190c3544cd846da3393165f697": {
     "model_module": "@jupyter-widgets/controls",
     "model_module_version": "1.5.0",
     "model_name": "DescriptionStyleModel",
     "state": {
      "_model_module": "@jupyter-widgets/controls",
      "_model_module_version": "1.5.0",
      "_model_name": "DescriptionStyleModel",
      "_view_count": null,
      "_view_module": "@jupyter-widgets/base",
      "_view_module_version": "1.2.0",
      "_view_name": "StyleView",
      "description_width": ""
     }
    },
    "699aad5f1ee945498dc6eb60dc6c42b9": {
     "model_module": "@jupyter-widgets/base",
     "model_module_version": "1.2.0",
     "model_name": "LayoutModel",
     "state": {
      "_model_module": "@jupyter-widgets/base",
      "_model_module_version": "1.2.0",
      "_model_name": "LayoutModel",
      "_view_count": null,
      "_view_module": "@jupyter-widgets/base",
      "_view_module_version": "1.2.0",
      "_view_name": "LayoutView",
      "align_content": null,
      "align_items": null,
      "align_self": null,
      "border": null,
      "bottom": null,
      "display": null,
      "flex": null,
      "flex_flow": null,
      "grid_area": null,
      "grid_auto_columns": null,
      "grid_auto_flow": null,
      "grid_auto_rows": null,
      "grid_column": null,
      "grid_gap": null,
      "grid_row": null,
      "grid_template_areas": null,
      "grid_template_columns": null,
      "grid_template_rows": null,
      "height": null,
      "justify_content": null,
      "justify_items": null,
      "left": null,
      "margin": null,
      "max_height": null,
      "max_width": null,
      "min_height": null,
      "min_width": null,
      "object_fit": null,
      "object_position": null,
      "order": null,
      "overflow": null,
      "overflow_x": null,
      "overflow_y": null,
      "padding": null,
      "right": null,
      "top": null,
      "visibility": null,
      "width": null
     }
    },
    "7ddd7b0f17314055b0f67b80dfe07435": {
     "model_module": "@jupyter-widgets/controls",
     "model_module_version": "1.5.0",
     "model_name": "DescriptionStyleModel",
     "state": {
      "_model_module": "@jupyter-widgets/controls",
      "_model_module_version": "1.5.0",
      "_model_name": "DescriptionStyleModel",
      "_view_count": null,
      "_view_module": "@jupyter-widgets/base",
      "_view_module_version": "1.2.0",
      "_view_name": "StyleView",
      "description_width": ""
     }
    },
    "897a8b1a8bf04aba92ed642c2d7af7c2": {
     "model_module": "@jupyter-widgets/controls",
     "model_module_version": "1.5.0",
     "model_name": "ProgressStyleModel",
     "state": {
      "_model_module": "@jupyter-widgets/controls",
      "_model_module_version": "1.5.0",
      "_model_name": "ProgressStyleModel",
      "_view_count": null,
      "_view_module": "@jupyter-widgets/base",
      "_view_module_version": "1.2.0",
      "_view_name": "StyleView",
      "bar_color": null,
      "description_width": ""
     }
    },
    "94d64dc5425c4ef0b0b90e9000e5acf7": {
     "model_module": "@jupyter-widgets/base",
     "model_module_version": "1.2.0",
     "model_name": "LayoutModel",
     "state": {
      "_model_module": "@jupyter-widgets/base",
      "_model_module_version": "1.2.0",
      "_model_name": "LayoutModel",
      "_view_count": null,
      "_view_module": "@jupyter-widgets/base",
      "_view_module_version": "1.2.0",
      "_view_name": "LayoutView",
      "align_content": null,
      "align_items": null,
      "align_self": null,
      "border": null,
      "bottom": null,
      "display": null,
      "flex": null,
      "flex_flow": null,
      "grid_area": null,
      "grid_auto_columns": null,
      "grid_auto_flow": null,
      "grid_auto_rows": null,
      "grid_column": null,
      "grid_gap": null,
      "grid_row": null,
      "grid_template_areas": null,
      "grid_template_columns": null,
      "grid_template_rows": null,
      "height": null,
      "justify_content": null,
      "justify_items": null,
      "left": null,
      "margin": null,
      "max_height": null,
      "max_width": null,
      "min_height": null,
      "min_width": null,
      "object_fit": null,
      "object_position": null,
      "order": null,
      "overflow": null,
      "overflow_x": null,
      "overflow_y": null,
      "padding": null,
      "right": null,
      "top": null,
      "visibility": null,
      "width": null
     }
    },
    "a5e5e2f4551a406a95693e7b75f20abb": {
     "model_module": "@jupyter-widgets/controls",
     "model_module_version": "1.5.0",
     "model_name": "DescriptionStyleModel",
     "state": {
      "_model_module": "@jupyter-widgets/controls",
      "_model_module_version": "1.5.0",
      "_model_name": "DescriptionStyleModel",
      "_view_count": null,
      "_view_module": "@jupyter-widgets/base",
      "_view_module_version": "1.2.0",
      "_view_name": "StyleView",
      "description_width": ""
     }
    },
    "b84904e6d5044367bd789733ac38d989": {
     "model_module": "@jupyter-widgets/base",
     "model_module_version": "1.2.0",
     "model_name": "LayoutModel",
     "state": {
      "_model_module": "@jupyter-widgets/base",
      "_model_module_version": "1.2.0",
      "_model_name": "LayoutModel",
      "_view_count": null,
      "_view_module": "@jupyter-widgets/base",
      "_view_module_version": "1.2.0",
      "_view_name": "LayoutView",
      "align_content": null,
      "align_items": null,
      "align_self": null,
      "border": null,
      "bottom": null,
      "display": null,
      "flex": null,
      "flex_flow": null,
      "grid_area": null,
      "grid_auto_columns": null,
      "grid_auto_flow": null,
      "grid_auto_rows": null,
      "grid_column": null,
      "grid_gap": null,
      "grid_row": null,
      "grid_template_areas": null,
      "grid_template_columns": null,
      "grid_template_rows": null,
      "height": null,
      "justify_content": null,
      "justify_items": null,
      "left": null,
      "margin": null,
      "max_height": null,
      "max_width": null,
      "min_height": null,
      "min_width": null,
      "object_fit": null,
      "object_position": null,
      "order": null,
      "overflow": null,
      "overflow_x": null,
      "overflow_y": null,
      "padding": null,
      "right": null,
      "top": null,
      "visibility": null,
      "width": null
     }
    },
    "b863b9307c924b12bb1b0b7ffc8eb186": {
     "model_module": "@jupyter-widgets/controls",
     "model_module_version": "1.5.0",
     "model_name": "HTMLModel",
     "state": {
      "_dom_classes": [],
      "_model_module": "@jupyter-widgets/controls",
      "_model_module_version": "1.5.0",
      "_model_name": "HTMLModel",
      "_view_count": null,
      "_view_module": "@jupyter-widgets/controls",
      "_view_module_version": "1.5.0",
      "_view_name": "HTMLView",
      "description": "",
      "description_tooltip": null,
      "layout": "IPY_MODEL_ce622dad44654bb0942ae189c9074ad0",
      "placeholder": "​",
      "style": "IPY_MODEL_7ddd7b0f17314055b0f67b80dfe07435",
      "value": "Batches: 100%"
     }
    },
    "c75e4e01baea4fdaad98d7c7b45f8efc": {
     "model_module": "@jupyter-widgets/controls",
     "model_module_version": "1.5.0",
     "model_name": "HBoxModel",
     "state": {
      "_dom_classes": [],
      "_model_module": "@jupyter-widgets/controls",
      "_model_module_version": "1.5.0",
      "_model_name": "HBoxModel",
      "_view_count": null,
      "_view_module": "@jupyter-widgets/controls",
      "_view_module_version": "1.5.0",
      "_view_name": "HBoxView",
      "box_style": "",
      "children": [
       "IPY_MODEL_b863b9307c924b12bb1b0b7ffc8eb186",
       "IPY_MODEL_f5bf385a560a4acfa778389f991d1be6",
       "IPY_MODEL_c8638e2742544f6982079de83a1f5330"
      ],
      "layout": "IPY_MODEL_94d64dc5425c4ef0b0b90e9000e5acf7"
     }
    },
    "c8638e2742544f6982079de83a1f5330": {
     "model_module": "@jupyter-widgets/controls",
     "model_module_version": "1.5.0",
     "model_name": "HTMLModel",
     "state": {
      "_dom_classes": [],
      "_model_module": "@jupyter-widgets/controls",
      "_model_module_version": "1.5.0",
      "_model_name": "HTMLModel",
      "_view_count": null,
      "_view_module": "@jupyter-widgets/controls",
      "_view_module_version": "1.5.0",
      "_view_name": "HTMLView",
      "description": "",
      "description_tooltip": null,
      "layout": "IPY_MODEL_699aad5f1ee945498dc6eb60dc6c42b9",
      "placeholder": "​",
      "style": "IPY_MODEL_2de467a416b74fe980ce5dac8bf497ff",
      "value": " 1406/1406 [01:29&lt;00:00, 88.63it/s]"
     }
    },
    "cbe73ba786cc4e1398d2890ca611965d": {
     "model_module": "@jupyter-widgets/base",
     "model_module_version": "1.2.0",
     "model_name": "LayoutModel",
     "state": {
      "_model_module": "@jupyter-widgets/base",
      "_model_module_version": "1.2.0",
      "_model_name": "LayoutModel",
      "_view_count": null,
      "_view_module": "@jupyter-widgets/base",
      "_view_module_version": "1.2.0",
      "_view_name": "LayoutView",
      "align_content": null,
      "align_items": null,
      "align_self": null,
      "border": null,
      "bottom": null,
      "display": null,
      "flex": null,
      "flex_flow": null,
      "grid_area": null,
      "grid_auto_columns": null,
      "grid_auto_flow": null,
      "grid_auto_rows": null,
      "grid_column": null,
      "grid_gap": null,
      "grid_row": null,
      "grid_template_areas": null,
      "grid_template_columns": null,
      "grid_template_rows": null,
      "height": null,
      "justify_content": null,
      "justify_items": null,
      "left": null,
      "margin": null,
      "max_height": null,
      "max_width": null,
      "min_height": null,
      "min_width": null,
      "object_fit": null,
      "object_position": null,
      "order": null,
      "overflow": null,
      "overflow_x": null,
      "overflow_y": null,
      "padding": null,
      "right": null,
      "top": null,
      "visibility": null,
      "width": null
     }
    },
    "ce622dad44654bb0942ae189c9074ad0": {
     "model_module": "@jupyter-widgets/base",
     "model_module_version": "1.2.0",
     "model_name": "LayoutModel",
     "state": {
      "_model_module": "@jupyter-widgets/base",
      "_model_module_version": "1.2.0",
      "_model_name": "LayoutModel",
      "_view_count": null,
      "_view_module": "@jupyter-widgets/base",
      "_view_module_version": "1.2.0",
      "_view_name": "LayoutView",
      "align_content": null,
      "align_items": null,
      "align_self": null,
      "border": null,
      "bottom": null,
      "display": null,
      "flex": null,
      "flex_flow": null,
      "grid_area": null,
      "grid_auto_columns": null,
      "grid_auto_flow": null,
      "grid_auto_rows": null,
      "grid_column": null,
      "grid_gap": null,
      "grid_row": null,
      "grid_template_areas": null,
      "grid_template_columns": null,
      "grid_template_rows": null,
      "height": null,
      "justify_content": null,
      "justify_items": null,
      "left": null,
      "margin": null,
      "max_height": null,
      "max_width": null,
      "min_height": null,
      "min_width": null,
      "object_fit": null,
      "object_position": null,
      "order": null,
      "overflow": null,
      "overflow_x": null,
      "overflow_y": null,
      "padding": null,
      "right": null,
      "top": null,
      "visibility": null,
      "width": null
     }
    },
    "f5bf385a560a4acfa778389f991d1be6": {
     "model_module": "@jupyter-widgets/controls",
     "model_module_version": "1.5.0",
     "model_name": "FloatProgressModel",
     "state": {
      "_dom_classes": [],
      "_model_module": "@jupyter-widgets/controls",
      "_model_module_version": "1.5.0",
      "_model_name": "FloatProgressModel",
      "_view_count": null,
      "_view_module": "@jupyter-widgets/controls",
      "_view_module_version": "1.5.0",
      "_view_name": "ProgressView",
      "bar_style": "success",
      "description": "",
      "description_tooltip": null,
      "layout": "IPY_MODEL_10c5f6c19af64e4491a0b37a2f73043b",
      "max": 1406,
      "min": 0,
      "orientation": "horizontal",
      "style": "IPY_MODEL_897a8b1a8bf04aba92ed642c2d7af7c2",
      "value": 1406
     }
    }
   }
  }
 },
 "nbformat": 4,
 "nbformat_minor": 0
}
