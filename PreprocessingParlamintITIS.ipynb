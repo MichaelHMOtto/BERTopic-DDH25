{
 "cells": [
  {
   "cell_type": "markdown",
   "id": "56a67d29",
   "metadata": {},
   "source": [
    "Imports"
   ]
  },
  {
   "cell_type": "code",
   "execution_count": null,
   "id": "d3a68dd8-4802-4b5f-9809-659c10ed771f",
   "metadata": {},
   "outputs": [],
   "source": [
    "import pandas as pd\n",
    "import os\n",
    "import math\n",
    "import glob"
   ]
  },
  {
   "cell_type": "markdown",
   "id": "04e78667",
   "metadata": {},
   "source": [
    "Define which files should be read into which frame"
   ]
  },
  {
   "cell_type": "code",
   "execution_count": null,
   "id": "e031ee42-0187-43c9-8cfa-a56ff09cea70",
   "metadata": {},
   "outputs": [],
   "source": [
    "\n",
    "\n",
    "def define_names():\n",
    "    d_path = \"ParlaMint_src\"\n",
    "\n",
    "    target_folders = [\"ParlaMint-IS-en.txt\", \"ParlaMint-IT-en.txt\"]\n",
    "\n",
    "    f_names_ana_meta, f_names_meta = [], []\n",
    "\n",
    "\n",
    "    for folder in target_folders:\n",
    "        folder_path = os.path.join(d_path, folder)\n",
    "\n",
    "        all_meta = glob.glob(os.path.join(folder_path, \"**\", \"*-meta.tsv\"), recursive=True)\n",
    "\n",
    "        f_ana_meta = [f for f in all_meta if f.endswith(\"-ana-meta.tsv\")]\n",
    "        f_meta = [f for f in all_meta if f not in f_ana_meta]    \n",
    "\n",
    "        f_names_ana_meta.extend(f_ana_meta)\n",
    "        f_names_meta.extend(f_meta)\n",
    "\n",
    "    f_names_txt = glob.glob(os.path.join(\"**\", \"parlamint-it-is-2022.txt\"), recursive=True)\n",
    "    if not f_names_txt:\n",
    "        raise FileNotFoundError(\n",
    "            \"Could not find 'parlamint-it-is-2022.txt'. \"\n",
    "            \"Ensure it exists in the repo and try again.\"\n",
    "        )\n",
    "\n",
    "    return f_names_ana_meta, f_names_meta, f_names_txt"
   ]
  },
  {
   "cell_type": "markdown",
   "id": "382b8451",
   "metadata": {},
   "source": [
    "Read data into the frames from the defined files"
   ]
  },
  {
   "cell_type": "code",
   "execution_count": null,
   "id": "d0bbdb04",
   "metadata": {},
   "outputs": [],
   "source": [
    "def create_df(f_names):\n",
    "    m_frames = []\n",
    "\n",
    "    for f_name in f_names:\n",
    "        df = pd.read_csv(f_name, sep='\\t')\n",
    "        m_frames.append(df)\n",
    "\n",
    "    df = pd.concat(m_frames)\n",
    "    return df"
   ]
  },
  {
   "cell_type": "code",
   "execution_count": null,
   "id": "7f176adb-e7f7-4363-bc4b-b720aa9ce81d",
   "metadata": {},
   "outputs": [],
   "source": [
    "def load_id_text_from_files(f_names_txt):\n",
    "\n",
    "    dfs = []\n",
    "    for file in f_names_txt:\n",
    "        df = pd.read_csv(\n",
    "            file,\n",
    "            sep=\"\\t\",\n",
    "            header=0,\n",
    "            names=[\"ID\", \"Parent_ID\", \"Text\"],\n",
    "            dtype=str\n",
    "        )\n",
    "        dfs.append(df)\n",
    "    \n",
    "    return pd.concat(dfs, ignore_index=True)\n",
    "\n",
    "\n"
   ]
  },
  {
   "cell_type": "markdown",
   "id": "68460a8e",
   "metadata": {},
   "source": [
    "Merge 2 different Dataframes"
   ]
  },
  {
   "cell_type": "code",
   "execution_count": null,
   "id": "3dc52fda",
   "metadata": {},
   "outputs": [],
   "source": [
    "def merge_meta_dfs(df_ana_meta, df_meta):\n",
    "    merged_df = pd.merge(\n",
    "        df_ana_meta,\n",
    "        df_meta,\n",
    "        left_on=\"Parent_ID\",\n",
    "        right_on=\"ID\",\n",
    "        how=\"left\",\n",
    "        suffixes=('_ana', '_full')\n",
    "    )\n",
    "    merged_df.drop(columns=[\"ID_full\"], inplace=True)\n",
    "    merged_df.rename(columns={\"ID_ana\": \"ID\"}, inplace=True)\n",
    "    return merged_df"
   ]
  },
  {
   "cell_type": "code",
   "execution_count": null,
   "id": "68e41da6",
   "metadata": {},
   "outputs": [],
   "source": [
    "def merge_with_text(merged_df, df_txt):\n",
    "    df_final = pd.merge(\n",
    "        merged_df,\n",
    "        df_txt[[\"ID\", \"Text\"]],  \n",
    "        on=\"ID\",\n",
    "        how=\"left\"\n",
    "    )\n",
    "    return df_final\n"
   ]
  },
  {
   "cell_type": "code",
   "execution_count": null,
   "id": "6d581c6f",
   "metadata": {},
   "outputs": [],
   "source": [
    "def clear_columns(merged_df):\n",
    "\n",
    "    columns_to_keep = [\n",
    "        \"ID\",                        \n",
    "        \"Speaker_ID\",      \n",
    "        \"Speaker_birth\",\n",
    "        \"Language\",\n",
    "        \"Topic\",         \n",
    "        \"Senti_6\",\n",
    "        \"Text\",\n",
    "    ]\n",
    "    reduced_df = merged_df[columns_to_keep].copy()\n",
    "    return reduced_df"
   ]
  },
  {
   "cell_type": "markdown",
   "id": "ee3063c3",
   "metadata": {},
   "source": [
    "Display Dataframes"
   ]
  },
  {
   "cell_type": "code",
   "execution_count": null,
   "id": "e13f18d1",
   "metadata": {},
   "outputs": [],
   "source": [
    "f_names_ana_meta, f_names_meta, f_names_txt = define_names()\n",
    "df_meta = create_df(f_names_meta)\n",
    "df_meta.head()"
   ]
  },
  {
   "cell_type": "markdown",
   "id": "78dc9ff5",
   "metadata": {},
   "source": [
    "Pipeline"
   ]
  },
  {
   "cell_type": "code",
   "execution_count": null,
   "id": "1b442f0f",
   "metadata": {},
   "outputs": [],
   "source": [
    "\n",
    "df_ana_meta = create_df(f_names_ana_meta)\n",
    "df_txt = load_id_text_from_files(f_names_txt)\n",
    "df_txt.head()\n"
   ]
  },
  {
   "cell_type": "markdown",
   "id": "0803b63b",
   "metadata": {},
   "source": [
    "Everything after this point can be revoked once there is a csv with sentences"
   ]
  },
  {
   "cell_type": "code",
   "execution_count": null,
   "id": "6b4720a0",
   "metadata": {},
   "outputs": [],
   "source": [
    "\n",
    "df_meta_merged = merge_meta_dfs(df_ana_meta, df_meta)\n",
    "df_meta_merged.head()"
   ]
  },
  {
   "cell_type": "code",
   "execution_count": null,
   "id": "86d80eb1",
   "metadata": {},
   "outputs": [],
   "source": [
    "df_meta_merged.to_csv(\"merged_parlamint.tsv\", sep=\"\\t\", index=False, encoding=\"utf-8\")\n"
   ]
  },
  {
   "cell_type": "code",
   "execution_count": null,
   "id": "a2bcccb1",
   "metadata": {},
   "outputs": [],
   "source": [
    "df_final = merge_with_text(df_meta_merged, df_txt)\n",
    "df_final = df_final.dropna(subset=[\"Text\"])\n",
    "df_final.head(15)"
   ]
  },
  {
   "cell_type": "code",
   "execution_count": null,
   "id": "a58435d6",
   "metadata": {},
   "outputs": [],
   "source": [
    "df_reduced = clear_columns(df_final)\n",
    "df_reduced.head()"
   ]
  },
  {
   "cell_type": "code",
   "execution_count": null,
   "id": "10b5ecd0",
   "metadata": {},
   "outputs": [],
   "source": [
    "df_reduced.to_csv(\"parlamintITIS.csv\")"
   ]
  }
 ],
 "metadata": {
  "kernelspec": {
   "display_name": "ddh25",
   "language": "python",
   "name": "python3"
  },
  "language_info": {
   "codemirror_mode": {
    "name": "ipython",
    "version": 3
   },
   "file_extension": ".py",
   "mimetype": "text/x-python",
   "name": "python",
   "nbconvert_exporter": "python",
   "pygments_lexer": "ipython3",
   "version": "3.13.5"
  }
 },
 "nbformat": 4,
 "nbformat_minor": 5
}
